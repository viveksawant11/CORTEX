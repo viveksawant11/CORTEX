{
 "cells": [
  {
   "cell_type": "code",
   "execution_count": 1,
   "metadata": {},
   "outputs": [
    {
     "data": {
      "text/plain": [
       "True"
      ]
     },
     "execution_count": 1,
     "metadata": {},
     "output_type": "execute_result"
    }
   ],
   "source": [
    "from dotenv import load_dotenv, find_dotenv\n",
    "load_dotenv(find_dotenv())"
   ]
  },
  {
   "cell_type": "code",
   "execution_count": 2,
   "metadata": {},
   "outputs": [],
   "source": [
    "import os\n",
    "\n",
    "# Set environment variables\n",
    "os.environ['LANGCHAIN_TRACING_V2'] = 'true'\n",
    "os.environ['LANGCHAIN_ENDPOINT'] = 'https://api.smith.langchain.com'\n",
    "os.environ['LANGCHAIN_PROJECT'] = 'cortex'\n",
    "\n",
    "# Get keys from the environment\n",
    "langchain_api_key = os.getenv(\"LANGCHAIN_API_KEY\")\n",
    "groq_api_key = os.getenv(\"GROQ_API_KEY\")\n",
    "\n",
    "if langchain_api_key:\n",
    "    os.environ['LANGCHAIN_API_KEY'] = langchain_api_key\n",
    "else:\n",
    "    raise ValueError(\"LANGCHAIN_API_KEY is not set in the environment.\")\n",
    "\n",
    "if groq_api_key:\n",
    "    os.environ['GROQ_API_KEY'] = groq_api_key\n",
    "else:\n",
    "    raise ValueError(\"GROQ_API_KEY is not set in the environment.\")"
   ]
  },
  {
   "cell_type": "code",
   "execution_count": 3,
   "metadata": {},
   "outputs": [
    {
     "name": "stderr",
     "output_type": "stream",
     "text": [
      "USER_AGENT environment variable not set, consider setting it to identify your requests.\n"
     ]
    }
   ],
   "source": [
    "from langchain.document_loaders import WebBaseLoader\n",
    "\n",
    "# Suppress tokenizer parallelism warning\n",
    "os.environ[\"TOKENIZERS_PARALLELISM\"] = \"false\"\n",
    "\n",
    "urls = [\n",
    "    \"https://www.webmd.com/a-to-z-guides/malaria\",\n",
    "    \"https://www.webmd.com/diabetes/type-1-diabetes\",\n",
    "    \"https://www.webmd.com/diabetes/type-2-diabetes\",\n",
    "    \"https://www.webmd.com/migraines-headaches/migraines-headaches-migraines\",\n",
    "]\n",
    "\n",
    "loader = WebBaseLoader(urls, bs_get_text_kwargs={\"strip\": True})\n",
    "docs = loader.load()\n"
   ]
  },
  {
   "cell_type": "code",
   "execution_count": 5,
   "metadata": {},
   "outputs": [],
   "source": [
    "from langchain.text_splitter import RecursiveCharacterTextSplitter\n",
    "from langchain_huggingface import HuggingFaceEmbeddings\n",
    "from langchain.vectorstores import Chroma\n",
    "\n",
    "# Splitting the documents\n",
    "text_splitter = RecursiveCharacterTextSplitter(chunk_size=500, chunk_overlap=30)\n",
    "chunks = text_splitter.split_documents(docs)\n",
    "\n",
    "# Defining the embedding function\n",
    "embedding_function = HuggingFaceEmbeddings()\n",
    "\n",
    "# Creating the vector store\n",
    "vector_store = Chroma.from_documents(documents=chunks, embedding=embedding_function)\n",
    "\n",
    "# Setting up the retriever\n",
    "retriever = vector_store.as_retriever(search_kwargs={\"k\": 3})"
   ]
  },
  {
   "cell_type": "code",
   "execution_count": 7,
   "metadata": {},
   "outputs": [
    {
     "data": {
      "text/plain": [
       "[Document(metadata={'description': 'Migraine headaches, also known as migraines, are a type of headache that can cause debilitating pain. Learn more about the types, causes, symptoms, diagnosis, & treatment of migraines.', 'language': 'en', 'source': 'https://www.webmd.com/migraines-headaches/migraines-headaches-migraines', 'title': 'Migraine: Symptoms, Causes, and Treatment'}, page_content='can be caused by many other things. Some typical characteristics of migraine headaches include:The pain is throbbing or pounding and feels worse when you move around.You feel it mostly on one side of your head.You also have at least one of these symptoms: sensitivity to light and/or sound,nausea, and vomiting.Migraine SymptomsFor many people, a migraine episode happens in stages. Symptoms you may have during these stagesinclude:Migraine prodromeHours or days before a headache, about 60% of'),\n",
       " Document(metadata={'description': 'Migraine headaches, also known as migraines, are a type of headache that can cause debilitating pain. Learn more about the types, causes, symptoms, diagnosis, & treatment of migraines.', 'language': 'en', 'source': 'https://www.webmd.com/migraines-headaches/migraines-headaches-migraines', 'title': 'Migraine: Symptoms, Causes, and Treatment'}, page_content='can be caused by many other things. Some typical characteristics of migraine headaches include:The pain is throbbing or pounding and feels worse when you move around.You feel it mostly on one side of your head.You also have at least one of these symptoms: sensitivity to light and/or sound,nausea, and vomiting.Migraine SymptomsFor many people, a migraine episode happens in stages. Symptoms you may have during these stagesinclude:Migraine prodromeHours or days before a headache, about 60% of'),\n",
       " Document(metadata={'description': 'Migraine headaches, also known as migraines, are a type of headache that can cause debilitating pain. Learn more about the types, causes, symptoms, diagnosis, & treatment of migraines.', 'language': 'en', 'source': 'https://www.webmd.com/migraines-headaches/migraines-headaches-migraines', 'title': 'Migraine: Symptoms, Causes, and Treatment'}, page_content=\"a headache, about 60% of people who have migraine notice symptoms like:Sensitivity to light, sound, or smell. Levels of light and sound that don't usually bother you may feel uncomfortable or even painful. Odors like those of cigarette smoke, car exhaust, perfume, and cleaning products may seem especially unpleasant.Fatigue for no known reason. You might also yawn a lot.Food cravings orlack of appetite. You may crave a particular food like sweets or feel hungrier in general. Or you might not\")]"
      ]
     },
     "execution_count": 7,
     "metadata": {},
     "output_type": "execute_result"
    }
   ],
   "source": [
    "retriever.invoke(\"Symptoms of migraine\")"
   ]
  },
  {
   "cell_type": "code",
   "execution_count": 8,
   "metadata": {},
   "outputs": [],
   "source": [
    "from pydantic import BaseModel\n",
    "from langchain_groq import ChatGroq\n",
    "from langchain.prompts import ChatPromptTemplate\n",
    "\n",
    "class VectorStore(BaseModel):\n",
    "    \"\"\"A vectorstore contains information about symptoms, treatment, risk factors and other information about malaria, type 1 and type 2 diabetes, and migraines.\"\"\"\n",
    "    query: str\n",
    "\n",
    "class SearchEngine(BaseModel):\n",
    "    \"\"\"A search engine for searching other medical information on the web\"\"\"\n",
    "    query: str\n",
    "\n",
    "router_prompt_template = (\n",
    "    \"You are an expert in routing user queries to either a VectorStore, SearchEngine\\n\"\n",
    "    \"Use SearchEngine for all other medical queries that are not related to malaria, diabetes, or migraines.\\n\"\n",
    "    \"The VectorStore contains information on malaria, diabetes, and migraines.\\n\"\n",
    "    'Note that if a query is not medically-related, you must output \"not medically-related\", don\\'t try to use any tool.\\n\\n'\n",
    "    \"query: {query}\"\n",
    ")\n",
    "\n",
    "llm = ChatGroq(model=\"llama3-70b-8192\", temperature=0)\n",
    "prompt = ChatPromptTemplate.from_template(router_prompt_template)\n",
    "question_router = prompt | llm.bind_tools(tools=[VectorStore, SearchEngine])"
   ]
  },
  {
   "cell_type": "code",
   "execution_count": 10,
   "metadata": {},
   "outputs": [
    {
     "data": {
      "text/plain": [
       "True"
      ]
     },
     "execution_count": 10,
     "metadata": {},
     "output_type": "execute_result"
    }
   ],
   "source": [
    "response = question_router.invoke(\"What are the symptoms of chest pain?\")\n",
    "\"tool_calls\" in response.additional_kwargs"
   ]
  },
  {
   "cell_type": "code",
   "execution_count": 11,
   "metadata": {},
   "outputs": [
    {
     "data": {
      "text/plain": [
       "AIMessage(content='', additional_kwargs={'tool_calls': [{'id': 'call_590d', 'function': {'arguments': '{\"query\":\"chest pain\"}', 'name': 'VectorStore'}, 'type': 'function'}]}, response_metadata={'token_usage': {'completion_tokens': 54, 'prompt_tokens': 1111, 'total_tokens': 1165, 'completion_time': 0.168379543, 'prompt_time': 0.043831364, 'queue_time': 0.058799193, 'total_time': 0.212210907}, 'model_name': 'llama3-70b-8192', 'system_fingerprint': 'fp_dd4ae1c591', 'finish_reason': 'tool_calls', 'logprobs': None}, id='run-09f39851-64c8-45a5-9b8c-3bb00679655a-0', tool_calls=[{'name': 'VectorStore', 'args': {'query': 'chest pain'}, 'id': 'call_590d', 'type': 'tool_call'}], usage_metadata={'input_tokens': 1111, 'output_tokens': 54, 'total_tokens': 1165})"
      ]
     },
     "execution_count": 11,
     "metadata": {},
     "output_type": "execute_result"
    }
   ],
   "source": [
    "response"
   ]
  },
  {
   "cell_type": "code",
   "execution_count": 12,
   "metadata": {},
   "outputs": [],
   "source": [
    "from pydantic import field_validator\n",
    "from pydantic import BaseModel, Field\n",
    "from typing import Literal\n",
    "\n",
    "class Grader(BaseModel):\n",
    "    \"Use this format to give a binary score for relevance check on retrived documents.\"\n",
    "\n",
    "    grade: Literal[\"relevant\", \"irrelevant\"] = Field(\n",
    "        ...,\n",
    "        description=\"The relevance score for the document.\\n\"\n",
    "        \"Set this to 'relevant' if the given context is relevant to the user's query, or 'irrlevant' if the document is not relevant.\",\n",
    "    )\n",
    "\n",
    "    @field_validator(\"grade\", mode='before')\n",
    "    def validate_grade(cls, value):\n",
    "        if value == \"not relevant\":\n",
    "            return \"irrelevant\"\n",
    "        return value\n",
    "\n",
    "grader_system_prompt_template = \"\"\"\"You are a grader tasked with assessing the relevance of a given context to a query. \n",
    "    If the context is relevant to the query, score it as \"relevant\". Otherwise, give \"irrelevant\".\n",
    "    Do not answer the actual answer, just provide the grade in JSON format with \"grade\" as the key, without any additional explanation.\"\n",
    "    \"\"\"\n",
    "\n",
    "grader_prompt = ChatPromptTemplate.from_messages(\n",
    "    [\n",
    "        (\"system\", grader_system_prompt_template),\n",
    "        (\"human\", \"context: {context}\\n\\nquery: {query}\"),\n",
    "    ]\n",
    ")\n",
    "\n",
    "\n",
    "grader_chain = grader_prompt | llm.with_structured_output(Grader, method=\"json_mode\")\n",
    "\n",
    "query = \"symptoms of migraine\"\n",
    "context = retriever.get_relevant_documents(query)\n",
    "\n",
    "response = grader_chain.invoke({\"query\": query, \"context\": context})"
   ]
  },
  {
   "cell_type": "code",
   "execution_count": 13,
   "metadata": {},
   "outputs": [
    {
     "name": "stdout",
     "output_type": "stream",
     "text": [
      "grade='relevant'\n"
     ]
    }
   ],
   "source": [
    "print(response)"
   ]
  },
  {
   "cell_type": "code",
   "execution_count": 11,
   "metadata": {},
   "outputs": [
    {
     "name": "stdout",
     "output_type": "stream",
     "text": [
      "grade='irrelevant'\n"
     ]
    }
   ],
   "source": [
    "query = \"Treatment of Ulcer\"\n",
    "context = retriever.get_relevant_documents(query)\n",
    "\n",
    "response = grader_chain.invoke({\"query\": query, \"context\": context})\n",
    "print(response)"
   ]
  },
  {
   "cell_type": "code",
   "execution_count": 14,
   "metadata": {},
   "outputs": [
    {
     "data": {
      "text/markdown": [
       "According to the provided context, the symptoms of malaria include:\n",
       "\n",
       "1. High fever\n",
       "2. Chills\n",
       "3. Sweating\n",
       "4. Nausea or vomiting\n",
       "5. Headache\n",
       "6. Diarrhea\n",
       "7. Being very tired (fatigue)\n",
       "8. Body aches\n",
       "9. Yellow skin (jaundice)\n",
       "10. Kidney failure\n",
       "11. Seizure\n",
       "12. Confusion\n",
       "13. Bloody stools\n",
       "14. Convulsions\n",
       "15. Death\n",
       "\n",
       "Additionally, symptoms of serious malaria include:\n",
       "\n",
       "1. Impaired consciousness\n",
       "2. Convulsions\n",
       "4. Difficulty breathing\n",
       "5. Serious tiredness and fatigue\n",
       "6. Dark or bloody urine\n",
       "7. Yellow eyes and skin (jaundice)\n",
       "8. Abnormal bleeding"
      ],
      "text/plain": [
       "<IPython.core.display.Markdown object>"
      ]
     },
     "execution_count": 14,
     "metadata": {},
     "output_type": "execute_result"
    }
   ],
   "source": [
    "from langchain_core.output_parsers import StrOutputParser\n",
    "from IPython.core.display import Markdown\n",
    "\n",
    "rag_template_str = (\n",
    "    \"You are a helpful assistant. Answer the query below based only on the provided context.\\n\\n\"\n",
    "    \"context: {context}\\n\\n\"\n",
    "    \"query: {query}\"\n",
    ")\n",
    "\n",
    "\n",
    "rag_prompt = ChatPromptTemplate.from_template(rag_template_str)\n",
    "rag_chain = rag_prompt | llm | StrOutputParser()\n",
    "\n",
    "query = \"What are the symptoms of malaria?\"\n",
    "context = retriever.get_relevant_documents(query)\n",
    "\n",
    "response = rag_chain.invoke({\"query\": query, \"context\": context})\n",
    "\n",
    "Markdown(response)"
   ]
  },
  {
   "cell_type": "code",
   "execution_count": 15,
   "metadata": {},
   "outputs": [
    {
     "data": {
      "text/plain": [
       "\"Hello! I'm happy to assist you with any medical-related questions or concerns you may have. What's on your mind today?\""
      ]
     },
     "execution_count": 15,
     "metadata": {},
     "output_type": "execute_result"
    }
   ],
   "source": [
    "from operator import itemgetter\n",
    "\n",
    "fallback_prompt = ChatPromptTemplate.from_template(\n",
    "    (\n",
    "        \"You are a friendly medical assistant created by NHVAI.\\n\"\n",
    "        \"Do not respond to queries that are not related to health.\\n\"\n",
    "        \"If a query is not related to health, acknowledge your limitations.\\n\"\n",
    "        \"Provide concise responses to only medically-related queries.\\n\\n\"\n",
    "        \"Current conversations:\\n\\n{chat_history}\\n\\n\"\n",
    "        \"human: {query}\"\n",
    "    )\n",
    ")\n",
    "\n",
    "fallback_chain = (\n",
    "    {\n",
    "        \"chat_history\": lambda x: \"\\n\".join(\n",
    "            [\n",
    "                (\n",
    "                    f\"human: {msg.content}\"\n",
    "                    if isinstance(msg, HumanMessage)\n",
    "                    else f\"AI: {msg.content}\"\n",
    "                )\n",
    "                for msg in x[\"chat_history\"]\n",
    "            ]\n",
    "        ),\n",
    "        \"query\": itemgetter(\"query\") ,\n",
    "    }\n",
    "    | fallback_prompt\n",
    "    | llm\n",
    "    | StrOutputParser()\n",
    ")\n",
    "\n",
    "fallback_chain.invoke(\n",
    "    {\n",
    "        \"query\": \"Hello\",\n",
    "        \"chat_history\": [],\n",
    "    }\n",
    ")"
   ]
  },
  {
   "cell_type": "code",
   "execution_count": 16,
   "metadata": {},
   "outputs": [],
   "source": [
    "from langchain_core.runnables import RunnableParallel\n",
    "\n",
    "class HallucinationGrader(BaseModel):\n",
    "    \"Binary score for hallucination check in llm's response\"\n",
    "\n",
    "    grade: Literal[\"yes\", \"no\"] = Field(\n",
    "        ..., description=\"'yes' if the llm's reponse is hallucinated otherwise 'no'\"\n",
    "    )\n",
    "\n",
    "\n",
    "hallucination_grader_system_prompt_template = (\n",
    "    \"You are a grader assessing whether a response from an llm is based on a given context.\\n\"\n",
    "    \"If the llm's response is not based on the given context give a score of 'yes' meaning it's a hallucination\"\n",
    "    \"otherwise give 'no'\\n\"\n",
    "    \"Just give the grade in json with 'grade' as a key and a binary value of 'yes' or 'no' without additional explanation\"\n",
    ")\n",
    "\n",
    "hallucination_grader_prompt = ChatPromptTemplate.from_messages(\n",
    "    [\n",
    "        (\"system\", hallucination_grader_system_prompt_template),\n",
    "        (\"human\", \"context: {context}\\n\\nllm's response: {response}\"),\n",
    "    ]\n",
    ")\n",
    "\n",
    "\n",
    "hallucination_grader_chain = (\n",
    "    RunnableParallel(\n",
    "        {\n",
    "            \"response\": itemgetter(\"response\"),\n",
    "            \"context\": lambda x: \"\\n\\n\".join([c.page_content for c in x[\"context\"]]),\n",
    "        }\n",
    "    )\n",
    "    | hallucination_grader_prompt\n",
    "    | llm.with_structured_output(HallucinationGrader, method=\"json_mode\")\n",
    ")\n",
    "\n",
    "query = \"Symptoms of malaria\"\n",
    "context = retriever.get_relevant_documents(query)\n",
    "response = \"\"\"Based on the context provided, the symptoms of malaria include: Impaired consciousness, Convulsions, Difficulty breathing,\n",
    "Serious tiredness and fatigue, Dark or bloody urine, Yellow eyes and skin (jaundice), Abnormal bleeding, High fever, Chills,\n",
    "Sweating, Nausea or vomiting, Headache, Diarrhea\"\"\"\n",
    "\n",
    "response = hallucination_grader_chain.invoke({\"response\": response, \"context\": context})"
   ]
  },
  {
   "cell_type": "code",
   "execution_count": 17,
   "metadata": {},
   "outputs": [
    {
     "data": {
      "text/plain": [
       "HallucinationGrader(grade='no')"
      ]
     },
     "execution_count": 17,
     "metadata": {},
     "output_type": "execute_result"
    }
   ],
   "source": [
    "response"
   ]
  },
  {
   "cell_type": "code",
   "execution_count": 18,
   "metadata": {},
   "outputs": [],
   "source": [
    "class AnswerGrader(BaseModel):\n",
    "    \"Binary score for an answer check based on a query.\"\n",
    "\n",
    "    grade: Literal[\"yes\", \"no\"] = Field(\n",
    "        ...,\n",
    "        description=\"'yes' if the provided answer is an actual answer to the query otherwise 'no'\",\n",
    "    )\n",
    "\n",
    "\n",
    "answer_grader_system_prompt_template = (\n",
    "    \"You are a grader assessing whether a provided answer is in fact an answer to the given query.\\n\"\n",
    "    \"If the provided answer does not answer the query give a score of 'no' otherwise give 'yes'\\n\"\n",
    "    \"Just give the grade in json with 'grade' as a key and a binary value of 'yes' or 'no' without additional explanation\"\n",
    ")\n",
    "\n",
    "answer_grader_prompt = ChatPromptTemplate.from_messages(\n",
    "    [\n",
    "        (\"system\", answer_grader_system_prompt_template),\n",
    "        (\"human\", \"query: {query}\\n\\nanswer: {response}\"),\n",
    "    ]\n",
    ")\n",
    "\n",
    "\n",
    "answer_grader_chain = answer_grader_prompt | llm.with_structured_output(\n",
    "    AnswerGrader, method=\"json_mode\"\n",
    ")\n",
    "\n",
    "query = \"Symptoms of malaria\"\n",
    "# context = retriever.get_relevant_documents(query)\n",
    "response = \"\"\"Based on the context provided, the symptoms of malaria include: Impaired consciousness, Convulsions, Difficulty breathing,\n",
    "Serious tiredness and fatigue, Dark or bloody urine, Yellow eyes and skin (jaundice), Abnormal bleeding, High fever, Chills,\n",
    "Sweating, Nausea or vomiting, Headache, Diarrhea\"\"\"\n",
    "\n",
    "response = answer_grader_chain.invoke({\"response\": response, \"query\": query})"
   ]
  },
  {
   "cell_type": "code",
   "execution_count": 19,
   "metadata": {},
   "outputs": [
    {
     "data": {
      "text/plain": [
       "AnswerGrader(grade='yes')"
      ]
     },
     "execution_count": 19,
     "metadata": {},
     "output_type": "execute_result"
    }
   ],
   "source": [
    "response"
   ]
  },
  {
   "cell_type": "code",
   "execution_count": 20,
   "metadata": {},
   "outputs": [],
   "source": [
    "from typing import TypedDict\n",
    "from langchain_core.documents import Document\n",
    "from langgraph.prebuilt import ToolNode\n",
    "from langchain_core.tools import Tool\n",
    "from langchain_core.messages.base import BaseMessage\n",
    "from langchain_community.tools.tavily_search import TavilySearchResults\n",
    "\n",
    "tavily_search = TavilySearchResults()\n",
    "tool_executor = ToolNode(\n",
    "    tools=[\n",
    "        Tool(\n",
    "            name=\"VectorStore\",\n",
    "            func=retriever.invoke,\n",
    "            description=\"Useful to search the vector database\",\n",
    "        ),\n",
    "        Tool(\n",
    "            name=\"SearchEngine\", func=tavily_search, description=\"Useful to search the web\"\n",
    "        ),\n",
    "    ]\n",
    ")\n",
    "\n",
    "class AgentSate(TypedDict):\n",
    "    \"\"\"The dictionary keeps track of the data required by the various nodes in the graph\"\"\"\n",
    "\n",
    "    query: str\n",
    "    chat_history:list[BaseMessage]\n",
    "    generation: str\n",
    "    documents: list[Document]\n",
    "\n",
    "\n",
    "def retrieve_node(state: dict) -> dict[str, list[Document] | str]:\n",
    "    \"\"\"\n",
    "    Retrieve relevent documents from the vectorstore\n",
    "\n",
    "    query: str\n",
    "\n",
    "    return list[Document]\n",
    "    \"\"\"\n",
    "    query = state[\"query\"]\n",
    "    documents = retriever.invoke(input=query)\n",
    "    return {\"documents\": documents}\n",
    "\n",
    "def fallback_node(state: dict):\n",
    "    \"\"\"\n",
    "    Fallback to this node when there is no tool call\n",
    "    \"\"\"\n",
    "    query = state[\"query\"]\n",
    "    chat_history = state[\"chat_history\"]\n",
    "    generation = fallback_chain.invoke({\"query\": query, \"chat_history\": chat_history})\n",
    "    return {\"generation\": generation}\n",
    "\n",
    "\n",
    "def filter_documents_node(state: dict):\n",
    "    filtered_docs = list()\n",
    "\n",
    "    query = state[\"query\"]\n",
    "    documents = state[\"documents\"]\n",
    "    for i, doc in enumerate(documents, start=1):\n",
    "        grade = grader_chain.invoke({\"query\": query, \"context\": doc})\n",
    "        if grade.grade == \"relevant\":\n",
    "            print(f\"---CHUCK {i}: RELEVANT---\")\n",
    "            filtered_docs.append(doc)\n",
    "        else:\n",
    "            print(f\"---CHUCK {i}: NOT RELEVANT---\")\n",
    "    return {\"documents\": filtered_docs}\n",
    "\n",
    "\n",
    "def rag_node(state: dict):\n",
    "    query = state[\"query\"]\n",
    "    documents = state[\"documents\"]\n",
    "\n",
    "    generation = rag_chain.invoke({\"query\": query, \"context\": documents})\n",
    "    return {\"generation\": generation}\n",
    "\n",
    "\n",
    "def web_search_node(state: dict):\n",
    "    query = state[\"query\"]\n",
    "    results = tavily_search.invoke(query)\n",
    "    documents = [\n",
    "        Document(page_content=doc[\"content\"], metadata={\"source\": doc[\"url\"]})\n",
    "        for doc in results\n",
    "    ]\n",
    "    return {\"documents\": documents}\n",
    "\n",
    "def question_router_node(state: dict):\n",
    "    query = state[\"query\"]\n",
    "    try:\n",
    "        response = question_router.invoke({\"query\": query})\n",
    "    except Exception:\n",
    "        return \"llm_fallback\"\n",
    "\n",
    "    if \"tool_calls\" not in response.additional_kwargs:\n",
    "        print(\"---No tool called---\")\n",
    "        return \"llm_fallback\"\n",
    "\n",
    "    if len(response.additional_kwargs[\"tool_calls\"]) == 0:\n",
    "        raise \"Router could not decide route!\"\n",
    "\n",
    "    route = response.additional_kwargs[\"tool_calls\"][0][\"function\"][\"name\"]\n",
    "    if route == \"VectorStore\":\n",
    "        print(\"---Routing to VectorStore---\")\n",
    "        return \"VectorStore\"\n",
    "    elif route == \"SearchEngine\":\n",
    "        print(\"---Routing to SearchEngine---\")\n",
    "        return \"SearchEngine\"\n",
    "\n",
    "\n",
    "def should_generate(state: dict):\n",
    "    filtered_docs = state[\"documents\"]\n",
    "\n",
    "    if not filtered_docs:\n",
    "        print(\"---All retrived documents not relevant---\")\n",
    "        return \"SearchEngine\"\n",
    "    else:\n",
    "        print(\"---Some retrived documents are relevant---\")\n",
    "        return \"generate\"\n",
    "    \n",
    "def hallucination_and_answer_relevance_check(state: dict):\n",
    "    llm_response = state[\"generation\"]\n",
    "    documents = state[\"documents\"]\n",
    "    query = state[\"query\"]\n",
    "\n",
    "    hallucination_grade = hallucination_grader_chain.invoke(\n",
    "        {\"response\": llm_response, \"context\": documents}\n",
    "    )\n",
    "    if hallucination_grade.grade == \"no\":\n",
    "        print(\"---Hallucination check passed---\")\n",
    "        answer_relevance_grade = answer_grader_chain.invoke(\n",
    "            {\"response\": llm_response, \"query\": query}\n",
    "        )\n",
    "        if answer_relevance_grade.grade == \"yes\":\n",
    "            print(\"---Answer is relevant to question---\\n\")\n",
    "            return \"useful\"\n",
    "        else:\n",
    "            print(\"---Answer is not relevant to question---\")\n",
    "            return \"not useful\"\n",
    "    print(\"---Hallucination check failed---\")\n",
    "    return \"generate\""
   ]
  },
  {
   "cell_type": "code",
   "execution_count": 21,
   "metadata": {},
   "outputs": [
    {
     "data": {
      "text/plain": [
       "<langgraph.graph.state.StateGraph at 0x323603400>"
      ]
     },
     "execution_count": 21,
     "metadata": {},
     "output_type": "execute_result"
    }
   ],
   "source": [
    "from langgraph.graph import StateGraph, END\n",
    "\n",
    "workflow = StateGraph(AgentSate)\n",
    "workflow.add_node(\"VectorStore\", retrieve_node)\n",
    "workflow.add_node(\"SearchEngine\", web_search_node)\n",
    "workflow.add_node(\"filter_docs\", filter_documents_node)\n",
    "workflow.add_node(\"fallback\", fallback_node)\n",
    "workflow.add_node(\"rag\", rag_node)\n",
    "\n",
    "workflow.set_conditional_entry_point(\n",
    "    question_router_node,\n",
    "    {\n",
    "        \"llm_fallback\": \"fallback\",\n",
    "        \"VectorStore\": \"VectorStore\",\n",
    "        \"SearchEngine\": \"SearchEngine\",\n",
    "    },\n",
    ")\n",
    "\n",
    "workflow.add_edge(\"VectorStore\", \"filter_docs\")\n",
    "workflow.add_edge(\"SearchEngine\", \"filter_docs\")\n",
    "workflow.add_conditional_edges(\n",
    "    \"filter_docs\", should_generate, {\"SearchEngine\": \"SearchEngine\", \"generate\": \"rag\"}\n",
    ")\n",
    "workflow.add_conditional_edges(\n",
    "    \"rag\",\n",
    "    hallucination_and_answer_relevance_check,\n",
    "    {\"useful\": END, \"not useful\": \"SearchEngine\", \"generate\": \"rag\"},\n",
    ")\n",
    "\n",
    "workflow.add_edge(\"fallback\", END)"
   ]
  },
  {
   "cell_type": "code",
   "execution_count": 22,
   "metadata": {},
   "outputs": [],
   "source": [
    "app = workflow.compile(debug=False)\n",
    "plot = app.get_graph().draw_mermaid_png()\n",
    "\n",
    "with open(\"plot.png\", \"wb\") as fp:\n",
    "    fp.write(plot)"
   ]
  },
  {
   "cell_type": "code",
   "execution_count": 23,
   "metadata": {},
   "outputs": [
    {
     "data": {
      "image/jpeg": "[encoded data removed]",
      "image/png": "[encoded data removed]",
      "text/plain": [
       "<PIL.PngImagePlugin.PngImageFile image mode=RGB size=464x593>"
      ]
     },
     "metadata": {},
     "output_type": "display_data"
    }
   ],
   "source": [
    "from io import BytesIO\n",
    "from PIL import Image\n",
    "from IPython.display import display\n",
    "\n",
    "# Assuming you have the byte image stream in the 'byte_image' variable\n",
    "img = Image.open(BytesIO(plot))\n",
    "display(img)"
   ]
  },
  {
   "cell_type": "code",
   "execution_count": 24,
   "metadata": {},
   "outputs": [
    {
     "name": "stdout",
     "output_type": "stream",
     "text": [
      "---Routing to VectorStore---\n",
      "{'VectorStore': {'documents': [Document(metadata={'description': 'Migraine headaches, also known as migraines, are a type of headache that can cause debilitating pain. Learn more about the types, causes, symptoms, diagnosis, & treatment of migraines.', 'language': 'en', 'source': 'https://www.webmd.com/migraines-headaches/migraines-headaches-migraines', 'title': 'Migraine: Symptoms, Causes, and Treatment'}, page_content='your brain swell, while serotonin causes them to shrink. An imbalance in these chemicals causesinflammationand pain.Migraine Risk FactorsThe American Migraine Foundation estimates that more than 38 million Americans get migraines. Some things may make you more likely to get them:Sex.Women (and those assigned female at birth) have migraines three times more often than men and those assigned male at birth.Age.Most people start having migraine headaches between ages 10 and 40. If you have periods,'), Document(metadata={'description': 'Migraine headaches, also known as migraines, are a type of headache that can cause debilitating pain. Learn more about the types, causes, symptoms, diagnosis, & treatment of migraines.', 'language': 'en', 'source': 'https://www.webmd.com/migraines-headaches/migraines-headaches-migraines', 'title': 'Migraine: Symptoms, Causes, and Treatment'}, page_content='your brain swell, while serotonin causes them to shrink. An imbalance in these chemicals causesinflammationand pain.Migraine Risk FactorsThe American Migraine Foundation estimates that more than 38 million Americans get migraines. Some things may make you more likely to get them:Sex.Women (and those assigned female at birth) have migraines three times more often than men and those assigned male at birth.Age.Most people start having migraine headaches between ages 10 and 40. If you have periods,'), Document(metadata={'description': 'Migraine headaches, also known as migraines, are a type of headache that can cause debilitating pain. Learn more about the types, causes, symptoms, diagnosis, & treatment of migraines.', 'language': 'en', 'source': 'https://www.webmd.com/migraines-headaches/migraines-headaches-migraines', 'title': 'Migraine: Symptoms, Causes, and Treatment'}, page_content='and 40. If you have periods, you may find that your attacks get better or go away after menopause.Family history.Four out of five people with migraine have other family members who get them. If one parent has a history of thesetypes of headaches, you have a 50% chance of getting them. If both parents have them, the risk jumps to 75%.Other medical conditions.Depression,\\xa0anxiety,bipolar disorder,sleep disorders, andepilepsycan raise your odds.Migraine TriggersSome things that may trigger an')]}}---CHUCK 1: RELEVANT---\n",
      "---CHUCK 2: RELEVANT---\n",
      "---CHUCK 3: RELEVANT---\n",
      "---Some retrived documents are relevant---\n",
      "{'filter_docs': {'documents': [Document(metadata={'description': 'Migraine headaches, also known as migraines, are a type of headache that can cause debilitating pain. Learn more about the types, causes, symptoms, diagnosis, & treatment of migraines.', 'language': 'en', 'source': 'https://www.webmd.com/migraines-headaches/migraines-headaches-migraines', 'title': 'Migraine: Symptoms, Causes, and Treatment'}, page_content='your brain swell, while serotonin causes them to shrink. An imbalance in these chemicals causesinflammationand pain.Migraine Risk FactorsThe American Migraine Foundation estimates that more than 38 million Americans get migraines. Some things may make you more likely to get them:Sex.Women (and those assigned female at birth) have migraines three times more often than men and those assigned male at birth.Age.Most people start having migraine headaches between ages 10 and 40. If you have periods,'), Document(metadata={'description': 'Migraine headaches, also known as migraines, are a type of headache that can cause debilitating pain. Learn more about the types, causes, symptoms, diagnosis, & treatment of migraines.', 'language': 'en', 'source': 'https://www.webmd.com/migraines-headaches/migraines-headaches-migraines', 'title': 'Migraine: Symptoms, Causes, and Treatment'}, page_content='your brain swell, while serotonin causes them to shrink. An imbalance in these chemicals causesinflammationand pain.Migraine Risk FactorsThe American Migraine Foundation estimates that more than 38 million Americans get migraines. Some things may make you more likely to get them:Sex.Women (and those assigned female at birth) have migraines three times more often than men and those assigned male at birth.Age.Most people start having migraine headaches between ages 10 and 40. If you have periods,'), Document(metadata={'description': 'Migraine headaches, also known as migraines, are a type of headache that can cause debilitating pain. Learn more about the types, causes, symptoms, diagnosis, & treatment of migraines.', 'language': 'en', 'source': 'https://www.webmd.com/migraines-headaches/migraines-headaches-migraines', 'title': 'Migraine: Symptoms, Causes, and Treatment'}, page_content='and 40. If you have periods, you may find that your attacks get better or go away after menopause.Family history.Four out of five people with migraine have other family members who get them. If one parent has a history of thesetypes of headaches, you have a 50% chance of getting them. If both parents have them, the risk jumps to 75%.Other medical conditions.Depression,\\xa0anxiety,bipolar disorder,sleep disorders, andepilepsycan raise your odds.Migraine TriggersSome things that may trigger an')]}}---Hallucination check passed---\n",
      "---Answer is relevant to question---\n",
      "\n",
      "{'rag': {'generation': 'According to the provided context, the risk factors for migraines are:\\n\\n1. Sex: Women (and those assigned female at birth) have migraines three times more often than men and those assigned male at birth.\\n2. Age: Most people start having migraine headaches between ages 10 and 40.\\n3. Family history: Four out of five people with migraine have other family members who get them. If one parent has a history of these types of headaches, you have a 50% chance of getting them. If both parents have them, the risk jumps to 75%.\\n4. Other medical conditions: Depression, anxiety, bipolar disorder, sleep disorders, and epilepsy can raise your odds.'}}"
     ]
    }
   ],
   "source": [
    "for token in app.stream({\"query\": \"What are the risk factors of migraines\", \"chat_history\": []}):\n",
    "    print(token, end=\"\", flush=True)"
   ]
  },
  {
   "cell_type": "code",
   "execution_count": 25,
   "metadata": {},
   "outputs": [
    {
     "name": "stdout",
     "output_type": "stream",
     "text": [
      "---Routing to SearchEngine---\n",
      "---CHUCK 1: RELEVANT---\n",
      "---CHUCK 2: RELEVANT---\n",
      "---CHUCK 3: RELEVANT---\n",
      "---CHUCK 4: RELEVANT---\n",
      "---CHUCK 5: RELEVANT---\n",
      "---Some retrived documents are relevant---\n",
      "---Hallucination check passed---\n",
      "---Answer is relevant to question---\n",
      "\n"
     ]
    },
    {
     "data": {
      "text/markdown": [
       "Based on the given context, the symptoms of hypertension are:\n",
       "\n",
       "* Dehydration\n",
       "* Nausea\n",
       "* Dizziness\n",
       "* Fatigue\n",
       "* Confusion\n",
       "* Headaches\n",
       "* Nosebleeds\n",
       "* Blurred vision\n",
       "* Chest pain\n",
       "* Shortness of breath\n",
       "* Severe headaches\n",
       "* Chest pain\n",
       "* Dizziness\n",
       "* Difficulty breathing\n",
       "* Nausea\n",
       "* Vomiting\n",
       "* Blurred vision or other vision changes\n",
       "* Anxiety\n",
       "* Confusion\n",
       "* Buzzing in the ears\n",
       "* Nosebleeds\n",
       "* Abnormal heart rhythm\n",
       "* Anxiety\n",
       "* Blurred vision\n",
       "* Chest pain\n",
       "* Confusion\n",
       "* Nausea and vomiting\n",
       "* Not responding to stimulation (unresponsiveness)\n",
       "* Seizures\n",
       "* Severe headache\n",
       "* Shortness of breath\n",
       "* Numbness or tingling\n",
       "* Loss of feeling in the face, arm, or leg, often on just one side of the body\n",
       "* Trouble walking\n",
       "* Trouble speaking\n",
       "* Changes in vision\n",
       "\n",
       "Note that many people with hypertension do not experience any symptoms until it becomes severe. Regular blood pressure checks are essential to detect hypertension."
      ],
      "text/plain": [
       "<IPython.core.display.Markdown object>"
      ]
     },
     "execution_count": 25,
     "metadata": {},
     "output_type": "execute_result"
    }
   ],
   "source": [
    "response = app.invoke({\"query\": \"What are the symptoms of hypertension\", \"chat_history\": []})\n",
    "Markdown(response[\"generation\"])"
   ]
  },
  {
   "cell_type": "code",
   "execution_count": 28,
   "metadata": {},
   "outputs": [
    {
     "name": "stdout",
     "output_type": "stream",
     "text": [
      "* Running on local URL:  http://127.0.0.1:7862\n",
      "* Running on public URL: https://712575a9d77725f16b.gradio.live\n",
      "\n",
      "This share link expires in 72 hours. For free permanent hosting and GPU upgrades, run `gradio deploy` from the terminal in the working directory to deploy to Hugging Face Spaces (https://huggingface.co/spaces)\n"
     ]
    },
    {
     "data": {
      "text/html": [
       "<div><iframe src=\"https://712575a9d77725f16b.gradio.live\" width=\"100%\" height=\"500\" allow=\"autoplay; camera; microphone; clipboard-read; clipboard-write;\" frameborder=\"0\" allowfullscreen></iframe></div>"
      ],
      "text/plain": [
       "<IPython.core.display.HTML object>"
      ]
     },
     "metadata": {},
     "output_type": "display_data"
    },
    {
     "name": "stdout",
     "output_type": "stream",
     "text": [
      "---Routing to SearchEngine---\n",
      "---CHUCK 1: RELEVANT---\n",
      "---CHUCK 2: RELEVANT---\n",
      "---CHUCK 3: RELEVANT---\n",
      "---CHUCK 4: RELEVANT---\n",
      "---CHUCK 5: RELEVANT---\n",
      "---Some retrived documents are relevant---\n",
      "---Hallucination check passed---\n",
      "---Answer is relevant to question---\n",
      "\n",
      "---Routing to SearchEngine---\n",
      "---CHUCK 1: RELEVANT---\n",
      "---CHUCK 2: RELEVANT---\n",
      "---CHUCK 3: RELEVANT---\n",
      "---CHUCK 4: RELEVANT---\n",
      "---Some retrived documents are relevant---\n",
      "---Hallucination check passed---\n",
      "---Answer is relevant to question---\n",
      "\n"
     ]
    }
   ],
   "source": [
    "import gradio as gr\n",
    "from uuid import uuid4\n",
    "from langchain_core.messages import HumanMessage, AIMessage\n",
    "\n",
    "history = {}\n",
    "session_id = str(uuid4())\n",
    "\n",
    "def chat(query):\n",
    "\n",
    "    # Initialize the chat history for the current session\n",
    "    if session_id not in history:\n",
    "        history[session_id] = []\n",
    "\n",
    "    chat_history = history[session_id]\n",
    "\n",
    "    # Invoke the app with the current query and chat history\n",
    "    result = app.invoke({\"query\": query, \"chat_history\": chat_history})\n",
    "\n",
    "    # Separate the response from the retrieved documents\n",
    "    response = result[\"generation\"]\n",
    "    documents = result[\"documents\"]\n",
    "\n",
    "    # Add the current exchange to the chat history\n",
    "    chat_history.extend([HumanMessage(content=query), AIMessage(content=response)])\n",
    "\n",
    "    if not documents:\n",
    "        return response, documents\n",
    "\n",
    "    documents = [\n",
    "        f\"{doc.page_content}\\nsource: {doc.metadata['source']}\" for doc in documents\n",
    "    ]\n",
    "\n",
    "    return response, \"\\n\\n\".join(documents)\n",
    "\n",
    "# Create the Gradio interface\n",
    "demo = gr.Interface(\n",
    "    fn=chat,\n",
    "    inputs=gr.Textbox(label=\"Question\"),\n",
    "    outputs=[gr.Textbox(label=\"Response\"), gr.Textbox(label=\"Retrieved Documents\")],\n",
    "    title=\"Cortex Chatbot\",\n",
    "    description=\"Ask a health-related query and the chatbot will generate a response using Retrieval Augmented Generation.\",\n",
    ")\n",
    "\n",
    "if __name__ == \"__main__\":\n",
    "    demo.launch(share=True, inline=True)"
   ]
  }
 ],
 "metadata": {
  "kernelspec": {
   "display_name": "MP-env",
   "language": "python",
   "name": "python3"
  },
  "language_info": {
   "codemirror_mode": {
    "name": "ipython",
    "version": 3
   },
   "file_extension": ".py",
   "mimetype": "text/x-python",
   "name": "python",
   "nbconvert_exporter": "python",
   "pygments_lexer": "ipython3",
   "version": "3.10.16"
  }
 },
 "nbformat": 4,
 "nbformat_minor": 2
}
