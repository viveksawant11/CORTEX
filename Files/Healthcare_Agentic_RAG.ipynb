{
 "cells": [
  {
   "cell_type": "code",
   "execution_count": 5,
   "metadata": {},
   "outputs": [
    {
     "data": {
      "text/plain": [
       "True"
      ]
     },
     "execution_count": 5,
     "metadata": {},
     "output_type": "execute_result"
    }
   ],
   "source": [
    "from dotenv import load_dotenv, find_dotenv\n",
    "load_dotenv(find_dotenv())"
   ]
  },
  {
   "cell_type": "code",
   "execution_count": 6,
   "metadata": {},
   "outputs": [],
   "source": [
    "import os\n",
    "\n",
    "# Set environment variables\n",
    "os.environ['LANGCHAIN_TRACING_V2'] = 'true'\n",
    "os.environ['LANGCHAIN_ENDPOINT'] = 'https://api.smith.langchain.com'\n",
    "os.environ['LANGCHAIN_PROJECT'] = 'cortex'\n",
    "\n",
    "# Get keys from the environment\n",
    "langchain_api_key = os.getenv(\"LANGCHAIN_API_KEY\")\n",
    "groq_api_key = os.getenv(\"GROQ_API_KEY\")\n",
    "\n",
    "if langchain_api_key:\n",
    "    os.environ['LANGCHAIN_API_KEY'] = langchain_api_key\n",
    "else:\n",
    "    raise ValueError(\"LANGCHAIN_API_KEY is not set in the environment.\")\n",
    "\n",
    "if groq_api_key:\n",
    "    os.environ['GROQ_API_KEY'] = groq_api_key\n",
    "else:\n",
    "    raise ValueError(\"GROQ_API_KEY is not set in the environment.\")"
   ]
  },
  {
   "cell_type": "code",
   "execution_count": 7,
   "metadata": {},
   "outputs": [],
   "source": [
    "urls = [\n",
    "    \"https://www.webmd.com/a-to-z-guides/malaria\",\n",
    "    \"https://www.webmd.com/diabetes/type-1-diabetes\",\n",
    "    \"https://www.webmd.com/diabetes/type-2-diabetes\",\n",
    "    \"https://www.webmd.com/migraines-headaches/migraines-headaches-migraines\",\n",
    "]\n",
    "\n",
    "loader = WebBaseLoader(urls, bs_get_text_kwargs={\"strip\": True})\n",
    "docs = loader.load()"
   ]
  },
  {
   "cell_type": "code",
   "execution_count": 8,
   "metadata": {},
   "outputs": [
    {
     "data": {
      "application/vnd.jupyter.widget-view+json": {
       "model_id": "e5e8775cdc714dc89c7c551fc111c419",
       "version_major": 2,
       "version_minor": 0
      },
      "text/plain": [
       "modules.json:   0%|          | 0.00/349 [00:00<?, ?B/s]"
      ]
     },
     "metadata": {},
     "output_type": "display_data"
    },
    {
     "data": {
      "application/vnd.jupyter.widget-view+json": {
       "model_id": "2a0715fb7d444c2392f98450823e9c9f",
       "version_major": 2,
       "version_minor": 0
      },
      "text/plain": [
       "config_sentence_transformers.json:   0%|          | 0.00/116 [00:00<?, ?B/s]"
      ]
     },
     "metadata": {},
     "output_type": "display_data"
    },
    {
     "data": {
      "application/vnd.jupyter.widget-view+json": {
       "model_id": "5aa6de4703e64dddba6053cc7c523fa3",
       "version_major": 2,
       "version_minor": 0
      },
      "text/plain": [
       "README.md:   0%|          | 0.00/10.6k [00:00<?, ?B/s]"
      ]
     },
     "metadata": {},
     "output_type": "display_data"
    },
    {
     "data": {
      "application/vnd.jupyter.widget-view+json": {
       "model_id": "2b521f54d2334f76b5d39632967dfe6b",
       "version_major": 2,
       "version_minor": 0
      },
      "text/plain": [
       "sentence_bert_config.json:   0%|          | 0.00/53.0 [00:00<?, ?B/s]"
      ]
     },
     "metadata": {},
     "output_type": "display_data"
    },
    {
     "data": {
      "application/vnd.jupyter.widget-view+json": {
       "model_id": "0691a0141ef74c7ba52282a7d7437dd3",
       "version_major": 2,
       "version_minor": 0
      },
      "text/plain": [
       "config.json:   0%|          | 0.00/571 [00:00<?, ?B/s]"
      ]
     },
     "metadata": {},
     "output_type": "display_data"
    },
    {
     "data": {
      "application/vnd.jupyter.widget-view+json": {
       "model_id": "908558db6dbd484a97e71c15150d02d2",
       "version_major": 2,
       "version_minor": 0
      },
      "text/plain": [
       "model.safetensors:   0%|          | 0.00/438M [00:00<?, ?B/s]"
      ]
     },
     "metadata": {},
     "output_type": "display_data"
    },
    {
     "data": {
      "application/vnd.jupyter.widget-view+json": {
       "model_id": "c0ea57a073e1497fa3a1ff335e910ace",
       "version_major": 2,
       "version_minor": 0
      },
      "text/plain": [
       "tokenizer_config.json:   0%|          | 0.00/363 [00:00<?, ?B/s]"
      ]
     },
     "metadata": {},
     "output_type": "display_data"
    },
    {
     "data": {
      "application/vnd.jupyter.widget-view+json": {
       "model_id": "87a4b606fdf54718a39aa05183597782",
       "version_major": 2,
       "version_minor": 0
      },
      "text/plain": [
       "vocab.txt:   0%|          | 0.00/232k [00:00<?, ?B/s]"
      ]
     },
     "metadata": {},
     "output_type": "display_data"
    },
    {
     "data": {
      "application/vnd.jupyter.widget-view+json": {
       "model_id": "568f88ea132c4191aca988138f37dc5f",
       "version_major": 2,
       "version_minor": 0
      },
      "text/plain": [
       "tokenizer.json:   0%|          | 0.00/466k [00:00<?, ?B/s]"
      ]
     },
     "metadata": {},
     "output_type": "display_data"
    },
    {
     "data": {
      "application/vnd.jupyter.widget-view+json": {
       "model_id": "f9f0ab681af94e0cb80417f6533bbfbd",
       "version_major": 2,
       "version_minor": 0
      },
      "text/plain": [
       "special_tokens_map.json:   0%|          | 0.00/239 [00:00<?, ?B/s]"
      ]
     },
     "metadata": {},
     "output_type": "display_data"
    },
    {
     "data": {
      "application/vnd.jupyter.widget-view+json": {
       "model_id": "462f9ed4fb964e00af1d5c531f0a76cd",
       "version_major": 2,
       "version_minor": 0
      },
      "text/plain": [
       "1_Pooling%2Fconfig.json:   0%|          | 0.00/190 [00:00<?, ?B/s]"
      ]
     },
     "metadata": {},
     "output_type": "display_data"
    }
   ],
   "source": [
    "text_splitter = RecursiveCharacterTextSplitter(chunk_size=500, chunk_overlap=30)\n",
    "chunks = text_splitter.split_documents(docs)\n",
    "\n",
    "embedding_function = HuggingFaceEmbeddings()\n",
    "\n",
    "vector_store = Chroma.from_documents(documents=chunks, embedding=embedding_function)\n",
    "\n",
    "retriever = vector_store.as_retriever(search_kwargs={\"k\": 3})"
   ]
  },
  {
   "cell_type": "code",
   "execution_count": 10,
   "metadata": {},
   "outputs": [
    {
     "data": {
      "text/plain": [
       "[Document(metadata={'description': 'Migraine headaches, also known as migraines, are a type of headache that can cause debilitating pain. Learn more about the types, causes, symptoms, diagnosis, & treatment of migraines.', 'language': 'en', 'source': 'https://www.webmd.com/migraines-headaches/migraines-headaches-migraines', 'title': 'Migraine: Symptoms, Causes, and Treatment'}, page_content='This pain may:Begin as a dull ache and then become throbbingGet worse duringphysical activityAffect one sideof your head or move from one side to the other, be in the front of your head, or affect your entire headDuring the headache, you may also:Have nausea (About 80% of people with migraine do, and about half vomit.)Be paleand clammyFeelfaintordizzyHave neck pain or stiffnessFeel anxious or depressedHave a runny nose or feel stuffed upBe sensitive to light(Noise or odors might also bother'),\n",
       " Document(metadata={'description': 'Migraine headaches, also known as migraines, are a type of headache that can cause debilitating pain. Learn more about the types, causes, symptoms, diagnosis, & treatment of migraines.', 'language': 'en', 'source': 'https://www.webmd.com/migraines-headaches/migraines-headaches-migraines', 'title': 'Migraine: Symptoms, Causes, and Treatment'}, page_content=\"when you move around.You feel it mostly on one side of your head.You also have at least one of these symptoms: sensitivity to light and/or sound,nausea, and vomiting.Migraine SymptomsFor many people, a migraine episode happens in stages. Symptoms you may have during these stagesinclude:Migraine prodromeHours or days before a headache, about 60% of people who have migraine notice symptoms like:Sensitivity to light, sound, or smell. Levels of light and sound that don't usually bother you may feel\"),\n",
       " Document(metadata={'description': 'Migraine headaches, also known as migraines, are a type of headache that can cause debilitating pain. Learn more about the types, causes, symptoms, diagnosis, & treatment of migraines.', 'language': 'en', 'source': 'https://www.webmd.com/migraines-headaches/migraines-headaches-migraines', 'title': 'Migraine: Symptoms, Causes, and Treatment'}, page_content=\"may also have nausea and other migraine symptoms. An attack usually lasts only about 20-30 minutes.Vestibular migraine.You have balance problems,vertigo, nausea, and vomiting, with or without a headache. It usually happens in people who have a history ofmotion sickness.Abdominal migraine.Experts don't know a lot about this type. It causesstomach pain, nausea, and vomiting. It's more common in children and may change into classic migraine headaches over time.Hemiplegic migraine.You have a short\")]"
      ]
     },
     "execution_count": 10,
     "metadata": {},
     "output_type": "execute_result"
    }
   ],
   "source": [
    "# Suppress tokenizer parallelism warning\n",
    "os.environ[\"TOKENIZERS_PARALLELISM\"] = \"false\"\n",
    "\n",
    "retriever.get_relevant_documents(\"Symptoms of migraine\")"
   ]
  },
  {
   "cell_type": "code",
   "execution_count": 11,
   "metadata": {},
   "outputs": [],
   "source": [
    "class VectorStore(BaseModel):\n",
    "    (\n",
    "        \"A vectorstore contains information about symptoms, treatment\"\n",
    "        \", risk factors and other information about malaria, type 1 and\"\n",
    "        \"type 2 diabetes and migraines\"\n",
    "    )\n",
    "\n",
    "    query: str\n",
    "\n",
    "\n",
    "class SearchEngine(BaseModel):\n",
    "    \"\"\"A search engine for searching other medical information on the web\"\"\"\n",
    "\n",
    "    query: str\n",
    "\n",
    "\n",
    "router_prompt_template = (\n",
    "    \"You are an expert in routing user queries to either a VectorStore, SearchEngine\\n\"\n",
    "    \"Use SearchEngine for all other medical queries that are not related to malaria, diabetes, or migraines.\\n\"\n",
    "    \"The VectorStore contains information on malaria, diabetes, and migraines.\\n\"\n",
    "    'Note that if a query is not medically-related, you must output \"not medically-related\", don\\'t try to use any tool.\\n\\n'\n",
    "    \"query: {query}\"\n",
    ")\n",
    "\n",
    "llm = ChatGroq(model=\"llama3-70b-8192\", temperature=0)\n",
    "prompt = ChatPromptTemplate.from_template(router_prompt_template)\n",
    "question_router = prompt | llm.bind_tools(tools=[VectorStore, SearchEngine])"
   ]
  },
  {
   "cell_type": "code",
   "execution_count": 12,
   "metadata": {},
   "outputs": [
    {
     "data": {
      "text/plain": [
       "True"
      ]
     },
     "execution_count": 12,
     "metadata": {},
     "output_type": "execute_result"
    }
   ],
   "source": [
    "response = question_router.invoke(\"What are the symptoms of chest pain?\")\n",
    "\"tool_calls\" in response.additional_kwargs"
   ]
  },
  {
   "cell_type": "code",
   "execution_count": 13,
   "metadata": {},
   "outputs": [
    {
     "data": {
      "text/plain": [
       "AIMessage(content='', additional_kwargs={'tool_calls': [{'id': 'call_41ee', 'function': {'arguments': '{\"query\":\"chest pain symptoms\"}', 'name': 'SearchEngine'}, 'type': 'function'}]}, response_metadata={'token_usage': {'completion_tokens': 45, 'prompt_tokens': 1110, 'total_tokens': 1155, 'completion_time': 0.134340409, 'prompt_time': 0.067457509, 'queue_time': 0.022212434000000003, 'total_time': 0.201797918}, 'model_name': 'llama3-70b-8192', 'system_fingerprint': 'fp_753a4aecf6', 'finish_reason': 'tool_calls', 'logprobs': None}, id='run-c59718a7-12b9-4abb-9d8b-beb1aa281d03-0', tool_calls=[{'name': 'SearchEngine', 'args': {'query': 'chest pain symptoms'}, 'id': 'call_41ee', 'type': 'tool_call'}], usage_metadata={'input_tokens': 1110, 'output_tokens': 45, 'total_tokens': 1155})"
      ]
     },
     "execution_count": 13,
     "metadata": {},
     "output_type": "execute_result"
    }
   ],
   "source": [
    "response"
   ]
  },
  {
   "cell_type": "code",
   "execution_count": 14,
   "metadata": {},
   "outputs": [],
   "source": [
    "from langchain_core.pydantic_v1 import validator\n",
    "\n",
    "class Grader(BaseModel):\n",
    "    \"Use this format to give a binary score for relevance check on retrived documents.\"\n",
    "\n",
    "    grade: Literal[\"relevant\", \"irrelevant\"] = Field(\n",
    "        ...,\n",
    "        description=\"The relevance score for the document.\\n\"\n",
    "        \"Set this to 'relevant' if the given context is relevant to the user's query, or 'irrlevant' if the document is not relevant.\",\n",
    "    )\n",
    "\n",
    "    @validator(\"grade\", pre=True)\n",
    "    def validate_grade(cls, value):\n",
    "        if value == \"not relevant\":\n",
    "            return \"irrelevant\"\n",
    "        return value\n",
    "\n",
    "\n",
    "grader_system_prompt_template = \"\"\"\"You are a grader tasked with assessing the relevance of a given context to a query. \n",
    "    If the context is relevant to the query, score it as \"relevant\". Otherwise, give \"irrelevant\".\n",
    "    Do not answer the actual answer, just provide the grade in JSON format with \"grade\" as the key, without any additional explanation.\"\n",
    "    \"\"\"\n",
    "\n",
    "grader_prompt = ChatPromptTemplate.from_messages(\n",
    "    [\n",
    "        (\"system\", grader_system_prompt_template),\n",
    "        (\"human\", \"context: {context}\\n\\nquery: {query}\"),\n",
    "    ]\n",
    ")\n",
    "\n",
    "\n",
    "grader_chain = grader_prompt | llm.with_structured_output(Grader, method=\"json_mode\")\n",
    "\n",
    "query = \"symptoms of migraine\"\n",
    "context = retriever.get_relevant_documents(query)\n",
    "\n",
    "response = grader_chain.invoke({\"query\": query, \"context\": context})"
   ]
  },
  {
   "cell_type": "code",
   "execution_count": 15,
   "metadata": {},
   "outputs": [
    {
     "name": "stdout",
     "output_type": "stream",
     "text": [
      "grade='relevant'\n"
     ]
    }
   ],
   "source": [
    "print(response)"
   ]
  },
  {
   "cell_type": "code",
   "execution_count": 16,
   "metadata": {},
   "outputs": [
    {
     "name": "stdout",
     "output_type": "stream",
     "text": [
      "grade='irrelevant'\n"
     ]
    }
   ],
   "source": [
    "query = \"Treatment of Ulcer\"\n",
    "context = retriever.get_relevant_documents(query)\n",
    "\n",
    "response = grader_chain.invoke({\"query\": query, \"context\": context})\n",
    "print(response)"
   ]
  },
  {
   "cell_type": "code",
   "execution_count": 17,
   "metadata": {},
   "outputs": [
    {
     "data": {
      "text/markdown": [
       "Based on the provided context, the symptoms of malaria include:\n",
       "\n",
       "* Impaired consciousness\n",
       "* Convulsions\n",
       "* Difficulty breathing\n",
       "* Serious tiredness and fatigue\n",
       "* Dark or bloody urine\n",
       "* Yellow eyes and skin (jaundice)\n",
       "* Abnormal bleeding\n",
       "* Very tired (fatigue)\n",
       "* Body aches\n",
       "* Yellow skin (jaundice)\n",
       "* Kidney failure\n",
       "* Seizure\n",
       "* Confusion\n",
       "* Bloody stools\n",
       "* Convulsions\n",
       "* Death\n",
       "* High fever\n",
       "* Chills\n",
       "* Sweating\n",
       "* Nausea or vomiting\n",
       "* Headache\n",
       "* Diarrhea\n",
       "* Being very tired\n",
       "\n",
       "Note that some of these symptoms may be similar to those of a cold or flu, and it's important to seek medical care as soon as possible if you suspect you may have malaria."
      ],
      "text/plain": [
       "<IPython.core.display.Markdown object>"
      ]
     },
     "execution_count": 17,
     "metadata": {},
     "output_type": "execute_result"
    }
   ],
   "source": [
    "rag_template_str = (\n",
    "    \"You are a helpful assistant. Answer the query below based only on the provided context.\\n\\n\"\n",
    "    \"context: {context}\\n\\n\"\n",
    "    \"query: {query}\"\n",
    ")\n",
    "\n",
    "\n",
    "rag_prompt = ChatPromptTemplate.from_template(rag_template_str)\n",
    "rag_chain = rag_prompt | llm | StrOutputParser()\n",
    "\n",
    "query = \"What are the symptoms of malaria?\"\n",
    "context = retriever.get_relevant_documents(query)\n",
    "\n",
    "response = rag_chain.invoke({\"query\": query, \"context\": context})\n",
    "\n",
    "Markdown(response)"
   ]
  },
  {
   "cell_type": "code",
   "execution_count": 18,
   "metadata": {},
   "outputs": [
    {
     "data": {
      "text/plain": [
       "\"Hello! I'm happy to help with any health-related questions or concerns you may have. How can I assist you today?\""
      ]
     },
     "execution_count": 18,
     "metadata": {},
     "output_type": "execute_result"
    }
   ],
   "source": [
    "fallback_prompt = ChatPromptTemplate.from_template(\n",
    "    (\n",
    "        \"You are a friendly medical assistant created by NHVAI.\\n\"\n",
    "        \"Do not respond to queries that are not related to health.\\n\"\n",
    "        \"If a query is not related to health, acknowledge your limitations.\\n\"\n",
    "        \"Provide concise responses to only medically-related queries.\\n\\n\"\n",
    "        \"Current conversations:\\n\\n{chat_history}\\n\\n\"\n",
    "        \"human: {query}\"\n",
    "    )\n",
    ")\n",
    "\n",
    "fallback_chain = (\n",
    "    {\n",
    "        \"chat_history\": lambda x: \"\\n\".join(\n",
    "            [\n",
    "                (\n",
    "                    f\"human: {msg.content}\"\n",
    "                    if isinstance(msg, HumanMessage)\n",
    "                    else f\"AI: {msg.content}\"\n",
    "                )\n",
    "                for msg in x[\"chat_history\"]\n",
    "            ]\n",
    "        ),\n",
    "        \"query\": itemgetter(\"query\") ,\n",
    "    }\n",
    "    | fallback_prompt\n",
    "    | llm\n",
    "    | StrOutputParser()\n",
    ")\n",
    "\n",
    "fallback_chain.invoke(\n",
    "    {\n",
    "        \"query\": \"Hello\",\n",
    "        \"chat_history\": [],\n",
    "    }\n",
    ")"
   ]
  },
  {
   "cell_type": "code",
   "execution_count": 19,
   "metadata": {},
   "outputs": [],
   "source": [
    "class HallucinationGrader(BaseModel):\n",
    "    \"Binary score for hallucination check in llm's response\"\n",
    "\n",
    "    grade: Literal[\"yes\", \"no\"] = Field(\n",
    "        ..., description=\"'yes' if the llm's reponse is hallucinated otherwise 'no'\"\n",
    "    )\n",
    "\n",
    "\n",
    "hallucination_grader_system_prompt_template = (\n",
    "    \"You are a grader assessing whether a response from an llm is based on a given context.\\n\"\n",
    "    \"If the llm's response is not based on the given context give a score of 'yes' meaning it's a hallucination\"\n",
    "    \"otherwise give 'no'\\n\"\n",
    "    \"Just give the grade in json with 'grade' as a key and a binary value of 'yes' or 'no' without additional explanation\"\n",
    ")\n",
    "\n",
    "hallucination_grader_prompt = ChatPromptTemplate.from_messages(\n",
    "    [\n",
    "        (\"system\", hallucination_grader_system_prompt_template),\n",
    "        (\"human\", \"context: {context}\\n\\nllm's response: {response}\"),\n",
    "    ]\n",
    ")\n",
    "\n",
    "\n",
    "hallucination_grader_chain = (\n",
    "    RunnableParallel(\n",
    "        {\n",
    "            \"response\": itemgetter(\"response\"),\n",
    "            \"context\": lambda x: \"\\n\\n\".join([c.page_content for c in x[\"context\"]]),\n",
    "        }\n",
    "    )\n",
    "    | hallucination_grader_prompt\n",
    "    | llm.with_structured_output(HallucinationGrader, method=\"json_mode\")\n",
    ")\n",
    "\n",
    "query = \"Symptoms of malaria\"\n",
    "context = retriever.get_relevant_documents(query)\n",
    "response = \"\"\"Based on the context provided, the symptoms of malaria include: Impaired consciousness, Convulsions, Difficulty breathing,\n",
    "Serious tiredness and fatigue, Dark or bloody urine, Yellow eyes and skin (jaundice), Abnormal bleeding, High fever, Chills,\n",
    "Sweating, Nausea or vomiting, Headache, Diarrhea\"\"\"\n",
    "\n",
    "response = hallucination_grader_chain.invoke({\"response\": response, \"context\": context})"
   ]
  },
  {
   "cell_type": "code",
   "execution_count": 20,
   "metadata": {},
   "outputs": [
    {
     "data": {
      "text/plain": [
       "HallucinationGrader(grade='no')"
      ]
     },
     "execution_count": 20,
     "metadata": {},
     "output_type": "execute_result"
    }
   ],
   "source": [
    "response"
   ]
  },
  {
   "cell_type": "code",
   "execution_count": 21,
   "metadata": {},
   "outputs": [],
   "source": [
    "class AnswerGrader(BaseModel):\n",
    "    \"Binary score for an answer check based on a query.\"\n",
    "\n",
    "    grade: Literal[\"yes\", \"no\"] = Field(\n",
    "        ...,\n",
    "        description=\"'yes' if the provided answer is an actual answer to the query otherwise 'no'\",\n",
    "    )\n",
    "\n",
    "\n",
    "answer_grader_system_prompt_template = (\n",
    "    \"You are a grader assessing whether a provided answer is in fact an answer to the given query.\\n\"\n",
    "    \"If the provided answer does not answer the query give a score of 'no' otherwise give 'yes'\\n\"\n",
    "    \"Just give the grade in json with 'grade' as a key and a binary value of 'yes' or 'no' without additional explanation\"\n",
    ")\n",
    "\n",
    "answer_grader_prompt = ChatPromptTemplate.from_messages(\n",
    "    [\n",
    "        (\"system\", answer_grader_system_prompt_template),\n",
    "        (\"human\", \"query: {query}\\n\\nanswer: {response}\"),\n",
    "    ]\n",
    ")\n",
    "\n",
    "\n",
    "answer_grader_chain = answer_grader_prompt | llm.with_structured_output(\n",
    "    AnswerGrader, method=\"json_mode\"\n",
    ")\n",
    "\n",
    "query = \"Symptoms of malaria\"\n",
    "# context = retriever.get_relevant_documents(query)\n",
    "response = \"\"\"Based on the context provided, the symptoms of malaria include: Impaired consciousness, Convulsions, Difficulty breathing,\n",
    "Serious tiredness and fatigue, Dark or bloody urine, Yellow eyes and skin (jaundice), Abnormal bleeding, High fever, Chills,\n",
    "Sweating, Nausea or vomiting, Headache, Diarrhea\"\"\"\n",
    "\n",
    "response = answer_grader_chain.invoke({\"response\": response, \"query\": query})"
   ]
  },
  {
   "cell_type": "code",
   "execution_count": 22,
   "metadata": {},
   "outputs": [
    {
     "data": {
      "text/plain": [
       "AnswerGrader(grade='yes')"
      ]
     },
     "execution_count": 22,
     "metadata": {},
     "output_type": "execute_result"
    }
   ],
   "source": [
    "response"
   ]
  },
  {
   "cell_type": "code",
   "execution_count": 25,
   "metadata": {},
   "outputs": [],
   "source": [
    "from typing import TypedDict\n",
    "from langchain_core.documents import Document\n",
    "from langgraph.prebuilt import ToolExecutor\n",
    "from langchain_core.tools import Tool\n",
    "from langchain_core.messages.base import BaseMessage\n",
    "\n",
    "tavily_search = TavilySearchResults()\n",
    "tool_executor = ToolExecutor(\n",
    "    tools=[\n",
    "        Tool(\n",
    "            name=\"VectorStore\",\n",
    "            func=retriever.invoke,\n",
    "            description=\"Useful to search the vector database\",\n",
    "        ),\n",
    "        Tool(\n",
    "            name=\"SearchEngine\", func=tavily_search, description=\"Useful to search the web\"\n",
    "        ),\n",
    "    ]\n",
    ")\n",
    "\n",
    "\n",
    "class AgentSate(TypedDict):\n",
    "    \"\"\"The dictionary keeps track of the data required by the various nodes in the graph\"\"\"\n",
    "\n",
    "    query: str\n",
    "    chat_history:list[BaseMessage]\n",
    "    generation: str\n",
    "    documents: list[Document]\n",
    "\n",
    "\n",
    "def retrieve_node(state: dict) -> dict[str, list[Document] | str]:\n",
    "    \"\"\"\n",
    "    Retrieve relevent documents from the vectorstore\n",
    "\n",
    "    query: str\n",
    "\n",
    "    return list[Document]\n",
    "    \"\"\"\n",
    "    query = state[\"query\"]\n",
    "    documents = retriever.invoke(input=query)\n",
    "    return {\"documents\": documents}\n",
    "\n",
    "def fallback_node(state: dict):\n",
    "    \"\"\"\n",
    "    Fallback to this node when there is no tool call\n",
    "    \"\"\"\n",
    "    query = state[\"query\"]\n",
    "    chat_history = state[\"chat_history\"]\n",
    "    generation = fallback_chain.invoke({\"query\": query, \"chat_history\": chat_history})\n",
    "    return {\"generation\": generation}\n",
    "\n",
    "\n",
    "def filter_documents_node(state: dict):\n",
    "    filtered_docs = list()\n",
    "\n",
    "    query = state[\"query\"]\n",
    "    documents = state[\"documents\"]\n",
    "    for i, doc in enumerate(documents, start=1):\n",
    "        grade = grader_chain.invoke({\"query\": query, \"context\": doc})\n",
    "        if grade.grade == \"relevant\":\n",
    "            print(f\"---CHUCK {i}: RELEVANT---\")\n",
    "            filtered_docs.append(doc)\n",
    "        else:\n",
    "            print(f\"---CHUCK {i}: NOT RELEVANT---\")\n",
    "    return {\"documents\": filtered_docs}\n",
    "\n",
    "\n",
    "def rag_node(state: dict):\n",
    "    query = state[\"query\"]\n",
    "    documents = state[\"documents\"]\n",
    "\n",
    "    generation = rag_chain.invoke({\"query\": query, \"context\": documents})\n",
    "    return {\"generation\": generation}\n",
    "\n",
    "\n",
    "def web_search_node(state: dict):\n",
    "    query = state[\"query\"]\n",
    "    results = tavily_search.invoke(query)\n",
    "    documents = [\n",
    "        Document(page_content=doc[\"content\"], metadata={\"source\": doc[\"url\"]})\n",
    "        for doc in results\n",
    "    ]\n",
    "    return {\"documents\": documents}\n",
    "\n",
    "def question_router_node(state: dict):\n",
    "    query = state[\"query\"]\n",
    "    try:\n",
    "        response = question_router.invoke({\"query\": query})\n",
    "    except Exception:\n",
    "        return \"llm_fallback\"\n",
    "\n",
    "    if \"tool_calls\" not in response.additional_kwargs:\n",
    "        print(\"---No tool called---\")\n",
    "        return \"llm_fallback\"\n",
    "\n",
    "    if len(response.additional_kwargs[\"tool_calls\"]) == 0:\n",
    "        raise \"Router could not decide route!\"\n",
    "\n",
    "    route = response.additional_kwargs[\"tool_calls\"][0][\"function\"][\"name\"]\n",
    "    if route == \"VectorStore\":\n",
    "        print(\"---Routing to VectorStore---\")\n",
    "        return \"VectorStore\"\n",
    "    elif route == \"SearchEngine\":\n",
    "        print(\"---Routing to SearchEngine---\")\n",
    "        return \"SearchEngine\"\n",
    "\n",
    "\n",
    "def should_generate(state: dict):\n",
    "    filtered_docs = state[\"documents\"]\n",
    "\n",
    "    if not filtered_docs:\n",
    "        print(\"---All retrived documents not relevant---\")\n",
    "        return \"SearchEngine\"\n",
    "    else:\n",
    "        print(\"---Some retrived documents are relevant---\")\n",
    "        return \"generate\"\n",
    "    \n",
    "def hallucination_and_answer_relevance_check(state: dict):\n",
    "    llm_response = state[\"generation\"]\n",
    "    documents = state[\"documents\"]\n",
    "    query = state[\"query\"]\n",
    "\n",
    "    hallucination_grade = hallucination_grader_chain.invoke(\n",
    "        {\"response\": llm_response, \"context\": documents}\n",
    "    )\n",
    "    if hallucination_grade.grade == \"no\":\n",
    "        print(\"---Hallucination check passed---\")\n",
    "        answer_relevance_grade = answer_grader_chain.invoke(\n",
    "            {\"response\": llm_response, \"query\": query}\n",
    "        )\n",
    "        if answer_relevance_grade.grade == \"yes\":\n",
    "            print(\"---Answer is relevant to question---\\n\")\n",
    "            return \"useful\"\n",
    "        else:\n",
    "            print(\"---Answer is not relevant to question---\")\n",
    "            return \"not useful\"\n",
    "    print(\"---Hallucination check failed---\")\n",
    "    return \"generate\""
   ]
  },
  {
   "cell_type": "code",
   "execution_count": 26,
   "metadata": {},
   "outputs": [
    {
     "data": {
      "text/plain": [
       "<langgraph.graph.state.StateGraph at 0x33b9aa860>"
      ]
     },
     "execution_count": 26,
     "metadata": {},
     "output_type": "execute_result"
    }
   ],
   "source": [
    "from langgraph.graph import StateGraph, END\n",
    "\n",
    "workflow = StateGraph(AgentSate)\n",
    "workflow.add_node(\"VectorStore\", retrieve_node)\n",
    "workflow.add_node(\"SearchEngine\", web_search_node)\n",
    "workflow.add_node(\"filter_docs\", filter_documents_node)\n",
    "workflow.add_node(\"fallback\", fallback_node)\n",
    "workflow.add_node(\"rag\", rag_node)\n",
    "\n",
    "workflow.set_conditional_entry_point(\n",
    "    question_router_node,\n",
    "    {\n",
    "        \"llm_fallback\": \"fallback\",\n",
    "        \"VectorStore\": \"VectorStore\",\n",
    "        \"SearchEngine\": \"SearchEngine\",\n",
    "    },\n",
    ")\n",
    "\n",
    "workflow.add_edge(\"VectorStore\", \"filter_docs\")\n",
    "workflow.add_edge(\"SearchEngine\", \"filter_docs\")\n",
    "workflow.add_conditional_edges(\n",
    "    \"filter_docs\", should_generate, {\"SearchEngine\": \"SearchEngine\", \"generate\": \"rag\"}\n",
    ")\n",
    "workflow.add_conditional_edges(\n",
    "    \"rag\",\n",
    "    hallucination_and_answer_relevance_check,\n",
    "    {\"useful\": END, \"not useful\": \"SearchEngine\", \"generate\": \"rag\"},\n",
    ")\n",
    "\n",
    "workflow.add_edge(\"fallback\", END)"
   ]
  },
  {
   "cell_type": "code",
   "execution_count": 27,
   "metadata": {},
   "outputs": [],
   "source": [
    "app = workflow.compile(debug=False)\n",
    "plot = app.get_graph().draw_mermaid_png()\n",
    "\n",
    "with open(\"plot.png\", \"wb\") as fp:\n",
    "    fp.write(plot)"
   ]
  },
  {
   "cell_type": "code",
   "execution_count": 28,
   "metadata": {},
   "outputs": [
    {
     "data": {
      "image/jpeg": "[encoded data removed]",
      "image/png": "[encoded data removed]",
      "text/plain": [
       "<PIL.PngImagePlugin.PngImageFile image mode=RGB size=466x593>"
      ]
     },
     "metadata": {},
     "output_type": "display_data"
    }
   ],
   "source": [
    "from io import BytesIO\n",
    "from PIL import Image\n",
    "from IPython.display import display\n",
    "\n",
    "# Assuming you have the byte image stream in the 'byte_image' variable\n",
    "img = Image.open(BytesIO(plot))\n",
    "display(img)"
   ]
  },
  {
   "cell_type": "code",
   "execution_count": 29,
   "metadata": {},
   "outputs": [
    {
     "name": "stdout",
     "output_type": "stream",
     "text": [
      "---Routing to VectorStore---\n",
      "{'VectorStore': {'documents': [Document(metadata={'description': 'Migraine headaches, also known as migraines, are a type of headache that can cause debilitating pain. Learn more about the types, causes, symptoms, diagnosis, & treatment of migraines.', 'language': 'en', 'source': 'https://www.webmd.com/migraines-headaches/migraines-headaches-migraines', 'title': 'Migraine: Symptoms, Causes, and Treatment'}, page_content=\"members who get them. If one parent has a history of thesetypes of headaches, you have a 50% chance of getting them. If both parents have them, the risk jumps to 75%.Other medical conditions.Depression,\\xa0anxiety,bipolar disorder,sleep disorders, andepilepsycan raise your odds.Migraine TriggersSome things that may trigger an attack\\xa0include:Hormone changes.You maynotice that you have headaches around your period, while you'repregnant, or when you'reovulating. Symptoms may also be tied to\"), Document(metadata={'description': 'Migraine headaches, also known as migraines, are a type of headache that can cause debilitating pain. Learn more about the types, causes, symptoms, diagnosis, & treatment of migraines.', 'language': 'en', 'source': 'https://www.webmd.com/migraines-headaches/migraines-headaches-migraines', 'title': 'Migraine: Symptoms, Causes, and Treatment'}, page_content='estimates that more than 38 million Americans get migraines. Some things may make you more likely to get them:Sex.Women (and those assigned female at birth) have migraines three times more often than men and those assigned male at birth.Age.Most people start having migraine headaches between ages 10 and 40. If you have periods, you may find that your attacks get better or go away after menopause.Family history.Four out of five people with migraine have other family members who get them. If one'), Document(metadata={'description': 'Migraine headaches, also known as migraines, are a type of headache that can cause debilitating pain. Learn more about the types, causes, symptoms, diagnosis, & treatment of migraines.', 'language': 'en', 'source': 'https://www.webmd.com/migraines-headaches/migraines-headaches-migraines', 'title': 'Migraine: Symptoms, Causes, and Treatment'}, page_content=\"which widen your blood vessels, can trigger headaches.Physical activity.This includesexerciseandsex.TobaccoChanges in yoursleep.You might get headaches when you sleep too much or not enough.Migraine trigger foodsSome foods and drinks, such as agedcheeses,alcohol, chocolate, and beans, have been linked to migraine attacks. So havefood additiveslike nitrates (in pepperoni, hot dogs, and lunch meats), monosodium glutamate, and the artificialsweetener aspartame. There's little solid research on\")]}}---CHUCK 1: RELEVANT---\n",
      "---CHUCK 2: RELEVANT---\n",
      "---CHUCK 3: RELEVANT---\n",
      "---Some retrived documents are relevant---\n",
      "{'filter_docs': {'documents': [Document(metadata={'description': 'Migraine headaches, also known as migraines, are a type of headache that can cause debilitating pain. Learn more about the types, causes, symptoms, diagnosis, & treatment of migraines.', 'language': 'en', 'source': 'https://www.webmd.com/migraines-headaches/migraines-headaches-migraines', 'title': 'Migraine: Symptoms, Causes, and Treatment'}, page_content=\"members who get them. If one parent has a history of thesetypes of headaches, you have a 50% chance of getting them. If both parents have them, the risk jumps to 75%.Other medical conditions.Depression,\\xa0anxiety,bipolar disorder,sleep disorders, andepilepsycan raise your odds.Migraine TriggersSome things that may trigger an attack\\xa0include:Hormone changes.You maynotice that you have headaches around your period, while you'repregnant, or when you'reovulating. Symptoms may also be tied to\"), Document(metadata={'description': 'Migraine headaches, also known as migraines, are a type of headache that can cause debilitating pain. Learn more about the types, causes, symptoms, diagnosis, & treatment of migraines.', 'language': 'en', 'source': 'https://www.webmd.com/migraines-headaches/migraines-headaches-migraines', 'title': 'Migraine: Symptoms, Causes, and Treatment'}, page_content='estimates that more than 38 million Americans get migraines. Some things may make you more likely to get them:Sex.Women (and those assigned female at birth) have migraines three times more often than men and those assigned male at birth.Age.Most people start having migraine headaches between ages 10 and 40. If you have periods, you may find that your attacks get better or go away after menopause.Family history.Four out of five people with migraine have other family members who get them. If one'), Document(metadata={'description': 'Migraine headaches, also known as migraines, are a type of headache that can cause debilitating pain. Learn more about the types, causes, symptoms, diagnosis, & treatment of migraines.', 'language': 'en', 'source': 'https://www.webmd.com/migraines-headaches/migraines-headaches-migraines', 'title': 'Migraine: Symptoms, Causes, and Treatment'}, page_content=\"which widen your blood vessels, can trigger headaches.Physical activity.This includesexerciseandsex.TobaccoChanges in yoursleep.You might get headaches when you sleep too much or not enough.Migraine trigger foodsSome foods and drinks, such as agedcheeses,alcohol, chocolate, and beans, have been linked to migraine attacks. So havefood additiveslike nitrates (in pepperoni, hot dogs, and lunch meats), monosodium glutamate, and the artificialsweetener aspartame. There's little solid research on\")]}}---Hallucination check passed---\n",
      "---Answer is relevant to question---\n",
      "\n",
      "{'rag': {'generation': 'Based on the provided context, the risk factors of migraines mentioned are:\\n\\n1. Family history: If one parent has a history of migraines, you have a 50% chance of getting them. If both parents have them, the risk jumps to 75%.\\n2. Other medical conditions: Depression, anxiety, bipolar disorder, sleep disorders, and epilepsy can raise your odds of getting migraines.\\n3. Sex: Women (and those assigned female at birth) have migraines three times more often than men and those assigned male at birth.\\n4. Age: Most people start having migraine headaches between ages 10 and 40.\\n\\nAdditionally, the context also mentions some potential triggers of migraines, which may not be directly referred to as risk factors, but can contribute to the likelihood of getting migraines. These include:\\n\\n1. Hormone changes\\n2. Certain foods and drinks (e.g. aged cheeses, alcohol, chocolate, beans, food additives like nitrates, monosodium glutamate, and aspartame)\\n3. Physical activity (e.g. exercise, sex)\\n4. Tobacco\\n5. Changes in sleep patterns (e.g. sleeping too much or not enough)'}}"
     ]
    }
   ],
   "source": [
    "for token in app.stream({\"query\": \"What are the risk factors of migraines\", \"chat_history\": []}):\n",
    "    print(token, end=\"\", flush=True)"
   ]
  },
  {
   "cell_type": "code",
   "execution_count": 30,
   "metadata": {},
   "outputs": [
    {
     "name": "stdout",
     "output_type": "stream",
     "text": [
      "---Routing to SearchEngine---\n",
      "---CHUCK 1: RELEVANT---\n",
      "---CHUCK 2: RELEVANT---\n",
      "---CHUCK 3: RELEVANT---\n",
      "---CHUCK 4: RELEVANT---\n",
      "---CHUCK 5: RELEVANT---\n",
      "---Some retrived documents are relevant---\n",
      "---Hallucination check passed---\n",
      "---Answer is relevant to question---\n",
      "\n"
     ]
    },
    {
     "data": {
      "text/markdown": [
       "According to the provided context, the symptoms of hypertension (high blood pressure) include:\n",
       "\n",
       "* Headaches\n",
       "* Blurred vision\n",
       "* Chest pain\n",
       "* Shortness of breath\n",
       "* Symptoms of stroke\n",
       "\n",
       "Note that many people with high blood pressure may not experience any symptoms at all, which is why regular blood pressure checks are important."
      ],
      "text/plain": [
       "<IPython.core.display.Markdown object>"
      ]
     },
     "execution_count": 30,
     "metadata": {},
     "output_type": "execute_result"
    }
   ],
   "source": [
    "response = app.invoke({\"query\": \"What are the symptoms of hypertension\", \"chat_history\": []})\n",
    "Markdown(response[\"generation\"])"
   ]
  },
  {
   "cell_type": "code",
   "execution_count": null,
   "metadata": {},
   "outputs": [
    {
     "name": "stdout",
     "output_type": "stream",
     "text": [
      "* Running on local URL:  http://127.0.0.1:7860\n",
      "* Running on public URL: https://512096e282ba82ec9a.gradio.live\n",
      "\n",
      "This share link expires in 72 hours. For free permanent hosting and GPU upgrades, run `gradio deploy` from the terminal in the working directory to deploy to Hugging Face Spaces (https://huggingface.co/spaces)\n"
     ]
    },
    {
     "data": {
      "text/html": [
       "<div><iframe src=\"https://512096e282ba82ec9a.gradio.live\" width=\"100%\" height=\"500\" allow=\"autoplay; camera; microphone; clipboard-read; clipboard-write;\" frameborder=\"0\" allowfullscreen></iframe></div>"
      ],
      "text/plain": [
       "<IPython.core.display.HTML object>"
      ]
     },
     "metadata": {},
     "output_type": "display_data"
    },
    {
     "name": "stdout",
     "output_type": "stream",
     "text": [
      "---No tool called---\n"
     ]
    },
    {
     "name": "stderr",
     "output_type": "stream",
     "text": [
      "Traceback (most recent call last):\n",
      "  File \"/opt/anaconda3/envs/MP-env/lib/python3.10/site-packages/gradio/queueing.py\", line 625, in process_events\n",
      "    response = await route_utils.call_process_api(\n",
      "  File \"/opt/anaconda3/envs/MP-env/lib/python3.10/site-packages/gradio/route_utils.py\", line 322, in call_process_api\n",
      "    output = await app.get_blocks().process_api(\n",
      "  File \"/opt/anaconda3/envs/MP-env/lib/python3.10/site-packages/gradio/blocks.py\", line 2098, in process_api\n",
      "    result = await self.call_function(\n",
      "  File \"/opt/anaconda3/envs/MP-env/lib/python3.10/site-packages/gradio/blocks.py\", line 1645, in call_function\n",
      "    prediction = await anyio.to_thread.run_sync(  # type: ignore\n",
      "  File \"/opt/anaconda3/envs/MP-env/lib/python3.10/site-packages/anyio/to_thread.py\", line 56, in run_sync\n",
      "    return await get_async_backend().run_sync_in_worker_thread(\n",
      "  File \"/opt/anaconda3/envs/MP-env/lib/python3.10/site-packages/anyio/_backends/_asyncio.py\", line 2461, in run_sync_in_worker_thread\n",
      "    return await future\n",
      "  File \"/opt/anaconda3/envs/MP-env/lib/python3.10/site-packages/anyio/_backends/_asyncio.py\", line 962, in run\n",
      "    result = context.run(func, *args)\n",
      "  File \"/opt/anaconda3/envs/MP-env/lib/python3.10/site-packages/gradio/utils.py\", line 883, in wrapper\n",
      "    response = f(*args, **kwargs)\n",
      "  File \"/var/folders/bg/7gm4yt417px42myyczdlqf1h0000gn/T/ipykernel_23473/1057186593.py\", line 20, in chat\n",
      "    documents = result[\"documents\"]\n",
      "KeyError: 'documents'\n"
     ]
    },
    {
     "name": "stdout",
     "output_type": "stream",
     "text": [
      "---Routing to SearchEngine---\n",
      "---CHUCK 1: RELEVANT---\n",
      "---CHUCK 2: RELEVANT---\n",
      "---CHUCK 3: RELEVANT---\n",
      "---CHUCK 4: RELEVANT---\n",
      "---CHUCK 5: RELEVANT---\n",
      "---Some retrived documents are relevant---\n",
      "---Hallucination check passed---\n",
      "---Answer is relevant to question---\n",
      "\n"
     ]
    }
   ],
   "source": [
    "import gradio as gr\n",
    "from uuid import uuid4\n",
    "\n",
    "history = {}\n",
    "session_id = str(uuid4())\n",
    "\n",
    "def chat(query):\n",
    "\n",
    "    # Initialize the chat history for the current session\n",
    "    if session_id not in history:\n",
    "        history[session_id] = []\n",
    "\n",
    "    chat_history = history[session_id]\n",
    "\n",
    "    # Invoke the app with the current query and chat history\n",
    "    result = app.invoke({\"query\": query, \"chat_history\": chat_history})\n",
    "\n",
    "    # Separate the response from the retrieved documents\n",
    "    response = result[\"generation\"]\n",
    "    documents = result[\"documents\"]\n",
    "\n",
    "    # Add the current exchange to the chat history\n",
    "    chat_history.extend([HumanMessage(content=query), AIMessage(content=response)])\n",
    "\n",
    "    if not documents:\n",
    "        return response, documents\n",
    "\n",
    "    documents = [\n",
    "        f\"{doc.page_content}\\nsource: {doc.metadata['source']}\" for doc in documents\n",
    "    ]\n",
    "\n",
    "    return response, \"\\n\\n\".join(documents)\n",
    "\n",
    "# Create the Gradio interface\n",
    "demo = gr.Interface(\n",
    "    fn=chat,\n",
    "    inputs=gr.Textbox(label=\"Question\"),\n",
    "    outputs=[gr.Textbox(label=\"Response\"), gr.Textbox(label=\"Retrieved Documents\")],\n",
    "    title=\"RAG Chatbot\",\n",
    "    description=\"Ask a health-related query and the chatbot will generate a response using Retrieval Augmented Generation.\",\n",
    ")\n",
    "\n",
    "if __name__ == \"__main__\":\n",
    "    demo.launch(share=True, inline=True)"
   ]
  }
 ],
 "metadata": {
  "kernelspec": {
   "display_name": "MP-env",
   "language": "python",
   "name": "python3"
  },
  "language_info": {
   "codemirror_mode": {
    "name": "ipython",
    "version": 3
   },
   "file_extension": ".py",
   "mimetype": "text/x-python",
   "name": "python",
   "nbconvert_exporter": "python",
   "pygments_lexer": "ipython3",
   "version": "3.10.16"
  }
 },
 "nbformat": 4,
 "nbformat_minor": 2
}
